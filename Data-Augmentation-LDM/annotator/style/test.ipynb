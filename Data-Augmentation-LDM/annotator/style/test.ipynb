{
 "cells": [
  {
   "cell_type": "code",
   "execution_count": 1,
   "id": "2862d312",
   "metadata": {},
   "outputs": [
    {
     "name": "stdout",
     "output_type": "stream",
     "text": [
      "[Conv2d(1, 64, kernel_size=(1, 11), stride=(1, 1), padding=(0, 5), bias=False), ReLU(), MaxPool2d(kernel_size=(2, 2), stride=(2, 2), padding=0, dilation=1, ceil_mode=False), Conv2d(64, 32, kernel_size=(1, 11), stride=(1, 1), padding=(0, 5), bias=False), ReLU(), MaxPool2d(kernel_size=(2, 2), stride=(2, 2), padding=0, dilation=1, ceil_mode=False), Conv2d(32, 16, kernel_size=(1, 11), stride=(1, 1), padding=(0, 5), bias=False), ReLU(), MaxPool2d(kernel_size=(2, 2), stride=(2, 2), padding=0, dilation=1, ceil_mode=False), Flatten(start_dim=1, end_dim=-1), Linear(in_features=16384, out_features=512, bias=True)]\n"
     ]
    }
   ],
   "source": [
    "\"Here we create the custom network\"\n",
    "import torch\n",
    "import numpy as np\n",
    "from model import style_net\n",
    "\n",
    "whichChannel = \"2d\"\n",
    "N_FILTERS = 4096\n",
    "hor_filter = 11\n",
    "N_SAMPLES = 1024 #time bins\n",
    "N_FREQ = 64 #freq bins\n",
    "\n",
    "if whichChannel == \"2d\":\n",
    "    IN_CHANNELS = 1\n",
    "elif whichChannel == \"freq\":\n",
    "    IN_CHANNELS = N_FREQ\n",
    "elif whichChannel == \"time\":\n",
    "    IN_CHANNELS = N_SAMPLES\n",
    "    \n",
    "\n",
    "# custom weights initialization\n",
    "def weights_init(m):\n",
    "    std = np.sqrt(2) * np.sqrt(2.0 / ((N_FREQ + N_FILTERS) * hor_filter))\n",
    "    classname = m.__class__.__name__\n",
    "    if classname.find('Conv') != -1:\n",
    "        m.weight.data.normal_(0.0, std)\n",
    "    \n",
    "style_extractor = style_net()\n",
    "style_extractor.apply(weights_init)\n",
    "for param in style_extractor.parameters():\n",
    "    param.requires_grad = False\n",
    "print(list(style_extractor.layers))\n",
    "\n",
    "torch.save(style_extractor.state_dict(), 'style.ckpt')"
   ]
  },
  {
   "cell_type": "code",
   "execution_count": null,
   "id": "094bd4c9",
   "metadata": {},
   "outputs": [],
   "source": []
  }
 ],
 "metadata": {
  "kernelspec": {
   "display_name": "Python [conda env:.conda-unicontrol]",
   "language": "python",
   "name": "conda-env-.conda-unicontrol-py"
  },
  "language_info": {
   "codemirror_mode": {
    "name": "ipython",
    "version": 3
   },
   "file_extension": ".py",
   "mimetype": "text/x-python",
   "name": "python",
   "nbconvert_exporter": "python",
   "pygments_lexer": "ipython3",
   "version": "3.8.5"
  }
 },
 "nbformat": 4,
 "nbformat_minor": 5
}
